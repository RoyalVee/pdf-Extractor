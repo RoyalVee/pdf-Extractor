{
 "cells": [
  {
   "cell_type": "markdown",
   "metadata": {},
   "source": [
    "# PDF Extractor"
   ]
  },
  {
   "cell_type": "code",
   "execution_count": null,
   "metadata": {},
   "outputs": [],
   "source": [
    "from PyPDF2 import PdfFileWriter, PdfFileReader\n",
    "import PyPDF2\n",
    "\n",
    "# Read the invoice file \n",
    "inputpdf = PdfFileReader(open(\"invoice.pdf\", \"rb\"))\n",
    "\n",
    "\n",
    "\"\"\"\n",
    "Itration to split the pdf files and name them\n",
    "\"\"\"\n",
    "for num in range(inputpdf.numPages):\n",
    "    # get the current page\n",
    "    pageObj = inputpdf.getPage(num) \n",
    "    \n",
    "    # Extract the page content\n",
    "    text = pageObj.extractText()\n",
    "    # Split the content \n",
    "    text2 = text.split()\n",
    "    \n",
    "    \"\"\"\n",
    "    Making the name for the file using the bill to name\n",
    "    \"\"\"\n",
    "    \n",
    "    # initalize the start and end list for holding the mark used in finding the name\n",
    "    start = []\n",
    "    end = []\n",
    "    \n",
    "    # loop through the list and get the name\n",
    "    for i in text2:\n",
    "        if text2[text2.index(i)][:5] == \"PRICE\" and len(i)>5:\n",
    "            start.append(text2.index(i))\n",
    "        elif text2[text2.index(i)][-4:] == \"Plot\":\n",
    "            end.append(text2.index(i))\n",
    "\n",
    "    fname = text2[start[0] : end[0]+1]\n",
    "    fname[0] = fname[0][5:]\n",
    "    fname[len(fname) - 1] = fname[len(fname) - 1][:-4]\n",
    "    \n",
    "    name = \"\"\n",
    "    for i in fname:\n",
    "        name += i\n",
    "        name += \" \"\n",
    "    \n",
    "    # now get the page content and give it the constructed name\n",
    "    output = PdfFileWriter()\n",
    "    output.addPage(inputpdf.getPage(num))\n",
    "    with open(\"%s.pdf\" % name, \"wb\") as outputStream:\n",
    "        output.write(outputStream)\n"
   ]
  },
  {
   "cell_type": "code",
   "execution_count": null,
   "metadata": {},
   "outputs": [],
   "source": []
  },
  {
   "cell_type": "code",
   "execution_count": null,
   "metadata": {},
   "outputs": [],
   "source": []
  }
 ],
 "metadata": {
  "kernelspec": {
   "display_name": "Python 3",
   "language": "python",
   "name": "python3"
  },
  "language_info": {
   "codemirror_mode": {
    "name": "ipython",
    "version": 3
   },
   "file_extension": ".py",
   "mimetype": "text/x-python",
   "name": "python",
   "nbconvert_exporter": "python",
   "pygments_lexer": "ipython3",
   "version": "3.7.6"
  }
 },
 "nbformat": 4,
 "nbformat_minor": 4
}
